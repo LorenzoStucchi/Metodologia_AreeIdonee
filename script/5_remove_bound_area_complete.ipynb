{
 "cells": [
  {
   "cell_type": "code",
   "execution_count": null,
   "metadata": {},
   "outputs": [],
   "source": [
    "import geopandas as gpd\n",
    "import pandas as pd"
   ]
  },
  {
   "cell_type": "code",
   "execution_count": null,
   "metadata": {},
   "outputs": [],
   "source": [
    "name_aree = \"AreeIdonee_CLC18\"\n",
    "AreeIdonee = gpd.read_file(\"..\\\\\" + name_aree + \".gpkg\")"
   ]
  },
  {
   "cell_type": "code",
   "execution_count": null,
   "metadata": {},
   "outputs": [],
   "source": [
    "AreeIdoneeNoVincoli = pd.DataFrame([])\n",
    "removed = []\n",
    "fixed_AI = []\n",
    "fixed_CM = []\n",
    "wrong = []\n",
    "remaining = []"
   ]
  },
  {
   "cell_type": "code",
   "execution_count": null,
   "metadata": {},
   "outputs": [],
   "source": [
    "field = \"Code_18\"\n",
    "glacers = \"335\"\n",
    "\n",
    "# field = \"lcp\"\n",
    "# AreeIdonee[field] = AreeIdonee[field].astype(str)\n",
    "# glacers = \"33500\"\n",
    "\n",
    "woods = \"31\"\n",
    "water = \"5\"\n",
    "agri = \"2\"\n"
   ]
  },
  {
   "cell_type": "code",
   "execution_count": null,
   "metadata": {},
   "outputs": [],
   "source": [
    "for index, row in AreeIdonee.iterrows():\n",
    "    if \"AI\" in row.TipologiaArea and row[field].startswith(agri):\n",
    "        AreeIdoneeNoVincoli = pd.concat([AreeIdoneeNoVincoli,pd.DataFrame(row)], axis=1)\n",
    "        remaining.append(str(row[field]) + \" \" + str(row['TipologiaArea']))\n",
    "    elif \"CM\" in row.TipologiaArea and row[field].startswith(agri):\n",
    "        AreeIdoneeNoVincoli = pd.concat([AreeIdoneeNoVincoli,pd.DataFrame(row)], axis=1)\n",
    "        remaining.append(str(row[field]) + \" \" + str(row['TipologiaArea']))\n",
    "    elif row.TipologiaArea != \"AI\" and row.TipologiaArea != \"CM\" and not str(row[field]) == glacers and not str(row[field]).startswith(woods) and not str(row[field]).startswith(water):\n",
    "        if \"AI\" in row.TipologiaArea and \"CM\" in row.TipologiaArea:\n",
    "            row.TipologiaArea = row.TipologiaArea.replace(\"AI\",\"\")\n",
    "            row.TipologiaArea = row.TipologiaArea.replace(\"CM\",\"\")\n",
    "            if row.TipologiaArea == \"\":\n",
    "                wrong.append(str(row[field]) + \" \" + str(row['TipologiaArea']))\n",
    "            else:\n",
    "                AreeIdoneeNoVincoli = pd.concat([AreeIdoneeNoVincoli,pd.DataFrame(row)], axis=1)\n",
    "                fixed_AI.append(str(row[field]) + \" \" + str(row['TipologiaArea']))\n",
    "        elif \"AI\" in row.TipologiaArea:\n",
    "            row.TipologiaArea = row.TipologiaArea.replace(\"AI\",\"\")\n",
    "            AreeIdoneeNoVincoli = pd.concat([AreeIdoneeNoVincoli,pd.DataFrame(row)], axis=1)\n",
    "            fixed_AI.append(str(row[field]) + \" \" + str(row['TipologiaArea']))\n",
    "        elif \"CM\" in row.TipologiaArea:\n",
    "            row.TipologiaArea = row.TipologiaArea.replace(\"CM\",\"\")\n",
    "            AreeIdoneeNoVincoli = pd.concat([AreeIdoneeNoVincoli,pd.DataFrame(row)], axis=1)\n",
    "            fixed_CM.append(str(row[field]) + \" \" + str(row['TipologiaArea']))\n",
    "        else:\n",
    "            AreeIdoneeNoVincoli = pd.concat([AreeIdoneeNoVincoli,pd.DataFrame(row)], axis=1)\n",
    "            remaining.append(str(row[field]) + \" \" + str(row['TipologiaArea']))\n",
    "    else:\n",
    "        removed.append(str(row[field]) + \" \" + str(row['TipologiaArea']))"
   ]
  },
  {
   "cell_type": "code",
   "execution_count": null,
   "metadata": {},
   "outputs": [],
   "source": [
    "AreeIdoneeNoVincoli_df = AreeIdoneeNoVincoli.T\n",
    "\n",
    "AreeIdoneeNoVincoli_df[\"AT\"] = AreeIdoneeNoVincoli_df.TipologiaArea.apply(lambda x: \"si\" if 'AT' in str(x) else \"no\")\n",
    "AreeIdoneeNoVincoli_df[\"AI\"] = AreeIdoneeNoVincoli_df.TipologiaArea.apply(lambda x: \"si\" if 'AI' in str(x) else \"no\")\n",
    "AreeIdoneeNoVincoli_df[\"RA\"] = AreeIdoneeNoVincoli_df.TipologiaArea.apply(lambda x: \"si\" if 'RA' in str(x) else \"no\")\n",
    "AreeIdoneeNoVincoli_df[\"CM\"] = AreeIdoneeNoVincoli_df.TipologiaArea.apply(lambda x: \"si\" if 'CM' in str(x) else \"no\")"
   ]
  },
  {
   "cell_type": "code",
   "execution_count": null,
   "metadata": {},
   "outputs": [],
   "source": [
    "AreeIdoneeNoVincoli_geo = gpd.GeoDataFrame(AreeIdoneeNoVincoli_df, geometry=AreeIdoneeNoVincoli_df.geometry)\n",
    "AreeIdoneeNoVincoli_geo.crs = AreeIdonee.crs\n",
    "AreeIdoneeNoVincoli_geo.to_file(\"..\\\\\" + name_aree + \"_fix.gpkg\", driver='GPKG')"
   ]
  }
 ],
 "metadata": {
  "language_info": {
   "name": "python"
  }
 },
 "nbformat": 4,
 "nbformat_minor": 2
}
