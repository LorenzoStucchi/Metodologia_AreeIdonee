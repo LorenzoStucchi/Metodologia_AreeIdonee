{
 "cells": [
  {
   "cell_type": "code",
   "execution_count": null,
   "metadata": {},
   "outputs": [],
   "source": [
    "import geopandas as gpd"
   ]
  },
  {
   "cell_type": "code",
   "execution_count": null,
   "metadata": {},
   "outputs": [],
   "source": [
    "# CLC\n",
    "name_aree = \"AreeIdonee_CLC18_pre\"\n",
    "field = \"Code_18\"\n",
    "\n",
    "# LCP\n",
    "# name_aree = \"AreeIdonee_LCP2021_pre\"\n",
    "# field = \"lcp\""
   ]
  },
  {
   "cell_type": "code",
   "execution_count": null,
   "metadata": {},
   "outputs": [],
   "source": [
    "AreeIdonee = gpd.read_file(name_aree + \".gpkg\")"
   ]
  },
  {
   "cell_type": "code",
   "execution_count": null,
   "metadata": {},
   "outputs": [],
   "source": [
    "def update_code_ghiacchiai(row):\n",
    "    if str(row[field]).startswith('335'):\n",
    "        code_v = str(row['Code_v'])\n",
    "        \n",
    "        if '2' in code_v:\n",
    "            index_2 = code_v.index('2')\n",
    "            mod_code = code_v[:index_2+1] + 'e' + code_v[index_2+1:]\n",
    "        elif code_v == \"None\":\n",
    "            mod_code = '2e'\n",
    "        else:\n",
    "            mod_code = code_v + '2e'\n",
    "    else:\n",
    "        mod_code = str(row['Code_v'])\n",
    "    return mod_code\n",
    "\n",
    "def update_code_boschi(row):\n",
    "    if str(row[field]).startswith('31'):\n",
    "        code_v = str(row['Code_v'])\n",
    "        \n",
    "        if '2' in code_v:\n",
    "            index_2 = code_v.index('2')\n",
    "            mod_code = code_v[:index_2+1] + 'g' + code_v[index_2+1:]\n",
    "        elif code_v == \"None\":\n",
    "            mod_code = '2g'\n",
    "        else:\n",
    "            mod_code = code_v + '2g'\n",
    "    else:\n",
    "        mod_code = str(row['Code_v'])\n",
    "    return mod_code\n",
    "\n",
    "def update_code_acque(row):\n",
    "    if str(row[field]).startswith('5'):\n",
    "        code_v = str(row['Code_v'])\n",
    "\n",
    "        if '1a' in code_v:\n",
    "            mod_code = code_v\n",
    "        elif '1' in code_v:\n",
    "            index_2 = code_v.index('1')\n",
    "            mod_code = code_v[:index_2+1] + 'a' + code_v[index_2+1:]\n",
    "        elif code_v == \"None\":\n",
    "            mod_code = '1a'\n",
    "        else:\n",
    "            mod_code = '1a' + code_v\n",
    "    else:\n",
    "        mod_code = str(row['Code_v'])\n",
    "    return mod_code"
   ]
  },
  {
   "cell_type": "code",
   "execution_count": null,
   "metadata": {},
   "outputs": [],
   "source": [
    "AreeIdonee['Code_v'] = AreeIdonee.apply(update_code_ghiacchiai, axis=1)\n",
    "AreeIdonee['Code_v'] = AreeIdonee.apply(update_code_boschi, axis=1)\n",
    "AreeIdonee['Code_v'] = AreeIdonee.apply(update_code_acque, axis=1)"
   ]
  },
  {
   "cell_type": "code",
   "execution_count": null,
   "metadata": {},
   "outputs": [],
   "source": [
    "AreeIdonee.to_file(name_aree + \"_rimozioneGalasso.gpkg\")"
   ]
  }
 ],
 "metadata": {
  "language_info": {
   "name": "python"
  }
 },
 "nbformat": 4,
 "nbformat_minor": 2
}
